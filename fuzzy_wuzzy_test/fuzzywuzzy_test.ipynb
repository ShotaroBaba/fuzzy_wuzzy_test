{
 "cells": [
  {
   "cell_type": "code",
   "execution_count": 25,
   "metadata": {},
   "outputs": [],
   "source": [
    "# Read modules, fuzz and process, from fuzzywuzzy libraries first.\n",
    "\n",
    "from fuzzywuzzy import fuzz \n",
    "from fuzzywuzzy import process\n",
    "from operator import itemgetter"
   ]
  },
  {
   "cell_type": "code",
   "execution_count": 26,
   "metadata": {},
   "outputs": [
    {
     "name": "stdout",
     "output_type": "stream",
     "text": [
      "The simple ratio is 100.\n",
      "The simple ratio is 76.\n",
      "The simple ratio is 43.\n",
      "The simple ratio is 38.\n"
     ]
    }
   ],
   "source": [
    "# Calculate simple ratios.\n",
    "\n",
    "print(\"The simple ratio is {}.\".format(fuzz.ratio(\"ddd cccc aaaa\", \"ddd cccc aaaa\")))\n",
    "print(\"The simple ratio is {}.\".format(fuzz.ratio(\"ddd cccc aaaa\", \"ddd cccc\")))\n",
    "print(\"The simple ratio is {}.\".format(fuzz.ratio(\"ddd cccc aaaa\", \"ddd ajlfiaewljl\")))\n",
    "print(\"The simple ratio is {}.\".format(fuzz.ratio(\"ddd cccc aaaa\", \"ddd\")))"
   ]
  },
  {
   "cell_type": "code",
   "execution_count": 27,
   "metadata": {},
   "outputs": [
    {
     "name": "stdout",
     "output_type": "stream",
     "text": [
      "The simple ratio is 100.\n",
      "The simple ratio is 100.\n",
      "The simple ratio is 46.\n",
      "The simple ratio is 100.\n"
     ]
    }
   ],
   "source": [
    "# Calculate partial ratios.\n",
    "\n",
    "print(\"The simple ratio is {}.\".format(fuzz.partial_ratio(\"ddd cccc aaaa\", \"ddd cccc aaaa\")))\n",
    "print(\"The simple ratio is {}.\".format(fuzz.partial_ratio(\"ddd cccc aaaa\", \"ddd cccc\")))\n",
    "print(\"The simple ratio is {}.\".format(fuzz.partial_ratio(\"ddd cccc aaaa\", \"ddd ajlfiaewljl\")))\n",
    "print(\"The simple ratio is {}.\".format(fuzz.partial_ratio(\"ddd cccc aaaa\", \"ddd\")))"
   ]
  },
  {
   "cell_type": "code",
   "execution_count": 33,
   "metadata": {},
   "outputs": [
    {
     "data": {
      "text/plain": [
       "[('ddd cccc aaaa', 100),\n",
       " ('ddd cccc', 90),\n",
       " ('ddd', 90),\n",
       " ('ddd ajlfiaewljl', 43)]"
      ]
     },
     "execution_count": 33,
     "metadata": {},
     "output_type": "execute_result"
    }
   ],
   "source": [
    "choices = [\"ddd cccc aaaa\", \"ddd cccc\", \"ddd ajlfiaewljl\", \"ddd\"]\n",
    "sorted(process.extract(\"ddd cccc aaaa\", choices), key=itemgetter(1), reverse=True)"
   ]
  },
  {
   "cell_type": "code",
   "execution_count": null,
   "metadata": {},
   "outputs": [],
   "source": []
  },
  {
   "cell_type": "code",
   "execution_count": null,
   "metadata": {},
   "outputs": [],
   "source": []
  }
 ],
 "metadata": {
  "kernelspec": {
   "display_name": "Python 3",
   "language": "python",
   "name": "python3"
  },
  "language_info": {
   "codemirror_mode": {
    "name": "ipython",
    "version": 3
   },
   "file_extension": ".py",
   "mimetype": "text/x-python",
   "name": "python",
   "nbconvert_exporter": "python",
   "pygments_lexer": "ipython3",
   "version": "3.9.0"
  }
 },
 "nbformat": 4,
 "nbformat_minor": 4
}
